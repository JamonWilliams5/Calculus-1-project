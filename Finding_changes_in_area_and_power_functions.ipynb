{
  "nbformat": 4,
  "nbformat_minor": 0,
  "metadata": {
    "colab": {
      "name": "Finding changes in area and power functions.ipynb",
      "provenance": [],
      "include_colab_link": true
    },
    "kernelspec": {
      "name": "python3",
      "display_name": "Python 3"
    },
    "language_info": {
      "name": "python"
    }
  },
  "cells": [
    {
      "cell_type": "markdown",
      "metadata": {
        "id": "view-in-github",
        "colab_type": "text"
      },
      "source": [
        "<a href=\"https://colab.research.google.com/github/JamonWilliams5/Calculus-1-project/blob/main/Finding_changes_in_area_and_power_functions.ipynb\" target=\"_parent\"><img src=\"https://colab.research.google.com/assets/colab-badge.svg\" alt=\"Open In Colab\"/></a>"
      ]
    },
    {
      "cell_type": "markdown",
      "metadata": {
        "id": "qQcuOUtvYdma"
      },
      "source": [
        "# Changes in area and power functions\n",
        "\n",
        "The area of a square is given by \n",
        "\n",
        "$$ A = s^2$$\n",
        "\n",
        "where $s$ is the side length measured in $meters$.  In this worksheet, we find the relationship between the change in area, $dA$, when the side length increases by a small amount $ds$.  That is, we will find a relationship between $dA$, $s$, and $ds$.\n",
        "\n",
        "To find this relationship, we will choose several different side lengths $s$ and the area $A = s^2$.  Then, we will increase the side length by a small amount, say $ds = 0.2$ inches.  We'll compute the area of this new square, which will be $A + dA = (s + ds)^2$.  We'll subtract off the original area, leaving just the change in area $dA$, and use Desmos to find the relationship between $dA$, $s$, and $ds$."
      ]
    },
    {
      "cell_type": "markdown",
      "metadata": {
        "id": "DVeRfuIXZGgu"
      },
      "source": [
        "# Area and Side Lengths\n",
        "\n",
        "\n",
        "Generate data for the change in area.  To do this:\n",
        "\n",
        "  1.  Generate some sample side lengths, and calculate the area (Use \"=B5^2\")\n",
        "  2.  Add $ds$ to the side length in a new column, and calculat the new area.\n",
        "  3.  Make a final tagle showing the side length $s$ and the change in area, $dA$\n",
        "  \n",
        "  The change in area, $dA$, is the difference between the original area and the new area.  In Cell I5, it should be \"=F5 - C5\".\n",
        "\n",
        "We'll use this basic spreadsheet for several different side lengths\n",
        "\n",
        "$$ ds = 0.2, \\hspace{1cm}  ds = 0.1, \\hspace{1cm}  ds = 0.05, \\hspace{1cm} ds = 0.01$$\n",
        "\n",
        "and, in homework, for several different functions\n",
        "\n",
        "$$ A = s^2, \\hspace{1cm}  V = s^3,\\hspace{1cm}    Q = s^7,\\hspace{1cm}    p = \\sqrt{s} = s^{0.5} $$"
      ]
    },
    {
      "cell_type": "code",
      "metadata": {
        "colab": {
          "base_uri": "https://localhost:8080/",
          "height": 396
        },
        "id": "bVnNOc5SZDa7",
        "outputId": "c0637271-99cd-40ed-807e-b9642e2c4630"
      },
      "source": [
        "from IPython.display import IFrame\n",
        "IFrame(src=\"https://docs.google.com/spreadsheets/d/1KmPk1ININ0pns_ndFF_tlJidLC9A6GWXZl1JMeJNFWE/copy\", width=1200, height=375)"
      ],
      "execution_count": null,
      "outputs": [
        {
          "output_type": "execute_result",
          "data": {
            "text/html": [
              "\n",
              "        <iframe\n",
              "            width=\"1200\"\n",
              "            height=\"375\"\n",
              "            src=\"https://docs.google.com/spreadsheets/d/1KmPk1ININ0pns_ndFF_tlJidLC9A6GWXZl1JMeJNFWE/edit?usp=sharing\"\n",
              "            frameborder=\"0\"\n",
              "            allowfullscreen\n",
              "        ></iframe>\n",
              "        "
            ],
            "text/plain": [
              "<IPython.lib.display.IFrame at 0x7f65e484b210>"
            ]
          },
          "metadata": {},
          "execution_count": 2
        }
      ]
    },
    {
      "cell_type": "code",
      "metadata": {
        "colab": {
          "base_uri": "https://localhost:8080/",
          "height": 896
        },
        "id": "olAAeWDYYXan",
        "outputId": "5e69672f-2efb-4eb0-e71c-e0c989eeb895"
      },
      "source": [
        "from IPython.display import IFrame\n",
        "IFrame(src=\"https://www.desmos.com/calculator/gc4svnkiwh\", width=1200, height=875)"
      ],
      "execution_count": null,
      "outputs": [
        {
          "output_type": "execute_result",
          "data": {
            "text/html": [
              "\n",
              "        <iframe\n",
              "            width=\"1200\"\n",
              "            height=\"875\"\n",
              "            src=\"https://www.desmos.com/calculator/gc4svnkiwh\"\n",
              "            frameborder=\"0\"\n",
              "            allowfullscreen\n",
              "        ></iframe>\n",
              "        "
            ],
            "text/plain": [
              "<IPython.lib.display.IFrame at 0x7f65e47ff890>"
            ]
          },
          "metadata": {},
          "execution_count": 6
        }
      ]
    },
    {
      "cell_type": "markdown",
      "source": [
        "#Record of data:\n",
        "\n",
        "We'll make a record of our data in the following table.  \n",
        "\n",
        "To add your data, double click your mouse in the cell, and then either modify the existing table row, or add a new table row.  Use | to separate columns, a new line for a new row, and --- to put a horizontal line in the table."
      ],
      "metadata": {
        "id": "Fj45BjD34gMw"
      }
    },
    {
      "cell_type": "markdown",
      "source": [
        "## Relationship between $dA$, $s$, and $ds$ for the area of a square\n",
        "\n",
        "To find this relationship, we'll repeat this experiment using several different values of $ds$.  To do this, we'll adjust the spreadsheet, copy and paste the data into Desmos, and record the new results in this table.\n",
        "\n",
        "We'll write the equation for $dA$ in form $dA = (  \\_\\_\\_\\_\\_\\_\\_\\_  ) ( ds) $ that we found in Desmos.  This is a differential of area, $dA$.  (The derivative would be $dA / ds$.\n",
        "\n",
        "| Type of Data | $ds$ |    Equation for $dA$ $      |\n",
        "|--------------|------|-----------------------------|\n",
        "|  Experiment  | 0.2  | dA = ( 0.2 + 2 s ) ( 0.2)   |\n",
        "|  Experiment  | 0.1  | dA = (   .1+2s  ) ( 0.1)   |\n",
        "|  Experiment  | 0.05  | dA = (  0.05+2s  ) ( 0.05)   |\n",
        "|  Experiment  | 0.01  | dA = (0.01+2s    ) ( 0.01)   |\n",
        "|--------------|-------|-----------------------------|\n",
        "|Logical Guess:|  ds   |  dA = (   2s ) ( ds )         |\n",
        "\n",
        "So, it appears that, since $A = s^2$, then:\n",
        "\n",
        "$$  dA = d(s^2) = (       2s    )(ds) $$"
      ],
      "metadata": {
        "id": "XHGN9DKM5HSO"
      }
    },
    {
      "cell_type": "markdown",
      "source": [
        "# Repeat the above experiments:\n",
        "\n",
        "We'll repeat the experiment above, as homework, for the following three functions.  Run the experiment using a step sizes of $ds = 0.2, ds = 0.1, ds = 0.05,$, and $ds = 0.01$.  Then, make a guess for the general relationship. Record your results in the tables below.\n",
        "\n",
        "1)  Volume, where $V = s^3$\n",
        "\n",
        "\n",
        "2)  A volume in $7$ dimensions, so $Q = s^7$\n",
        "\n",
        "\n",
        "\n",
        "3)  A square root function $p = \\sqrt{s}$, or $p = (s)^{0.5}$\n"
      ],
      "metadata": {
        "id": "mnPi3q6X7fUL"
      }
    },
    {
      "cell_type": "markdown",
      "source": [
        "# HW 1:  Relationship between $dV, s,$ and $ds$ for $V = s^3$\n",
        "\n",
        "To find this relationship, we'll repeat this experiment using several different values of $ds$.  To do this, we'll adjust the spreadsheet, copy and paste the data into Desmos, and record the new results in this table.\n",
        "\n",
        "We'll write the equation for $dV$ in form $dV = (  \\_\\_\\_\\_\\_\\_\\_\\_  ) ( ds) $ that we found in Desmos.  This is a differential of volume, $dV$.  (The derivative would be $dV / ds$.\n",
        "\n",
        "| Type of Data | $ds$ |    Equation for $dV$ $      |\n",
        "|--------------|------|-----------------------------|\n",
        "|  Experiment  | 0.2  | dV = (    0.2+3s ) ( 0.2)   |\n",
        "|  Experiment  | 0.1  | dV = (  0.1+3s   ) ( 0.1)   |\n",
        "|  Experiment  | 0.05  | dV = (  0.05+3s  ) ( 0.05)   |\n",
        "|  Experiment  | 0.01  | dV = ( 0.01+3s   ) ( 0.01)   |\n",
        "|--------------|-------|-----------------------------|\n",
        "|Logical Guess:|  ds   |  dV = (  3s  ) ( ds )         |\n",
        "\n",
        "\n",
        "So, it appears that, since $V = s^3$, then:\n",
        "\n",
        "$$  dA = d(s^3) = (    3s       )(ds) $$"
      ],
      "metadata": {
        "id": "fzn5stKc8UIl"
      }
    },
    {
      "cell_type": "markdown",
      "source": [
        "![image.png](data:image/png;base64,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)"
      ],
      "metadata": {
        "id": "I8sxx5ZIeKzf"
      }
    },
    {
      "cell_type": "markdown",
      "source": [
        "# HW 2:  Relationship between $dQ, s,$ and $ds$ for $Q = s^7$\n",
        "\n",
        "Repeate the same process.  We'll write the equation for $dQ$ in form $dQ = (  \\_\\_\\_\\_\\_\\_\\_\\_  ) ( ds) $ that we found in Desmos.\n",
        "\n",
        "| Type of Data | $ds$ |    Equation for $dQ$ $      |\n",
        "|--------------|------|-----------------------------|\n",
        "|  Experiment  | 0.2  | dQ = (  0.2+7s    ) ( 0.2)   |\n",
        "|  Experiment  | 0.1  | dQ = ( 0.1+7s    ) ( 0.1)   |\n",
        "|  Experiment  | 0.05  | dQ = (  0.05+7s  ) ( 0.05)   |\n",
        "|  Experiment  | 0.01  | dQ = (  0.01+7s  ) ( 0.01)   |\n",
        "|--------------|-------|-----------------------------|\n",
        "|Logical Guess:|  ds   |  dQ = (  7s  ) ( ds )         |\n",
        "\n",
        "\n",
        "So, it appears that, since $Q = s^7$, then:\n",
        "\n",
        "$$  dQ = d(s^7) = (       7s    )(ds) $$"
      ],
      "metadata": {
        "id": "YSFNZnUu9IGe"
      }
    },
    {
      "cell_type": "markdown",
      "source": [
        "# HW 3:  Relationship between $dP, s,$ and $ds$ for $P = \\sqrt{s}$ or $P = s^{0.5}$\n",
        "\n",
        "Repeate the same process.  We'll write the equation for $dP$ in form $dP = (  \\_\\_\\_\\_\\_\\_\\_\\_  ) ( ds) $ that we found in Desmos.\n",
        "\n",
        "| Type of Data | $ds$ |    Equation for $dQ$ $      |\n",
        "|--------------|------|-----------------------------|\n",
        "|  Experiment  | 0.2  | dP = (      ) ( 0.2)   |\n",
        "|  Experiment  | 0.1  | dP = (     ) ( 0.1)   |\n",
        "|  Experiment  | 0.05  | dP = (       ) ( 0.05)   |\n",
        "|  Experiment  | 0.01  | dP = (       ) ( 0.01)   |\n",
        "|--------------|-------|-----------------------------|\n",
        "|Logical Guess:|  ds   |  dP = (    ) ( ds )         |\n",
        "\n",
        "\n",
        "So, it appears that, since $P = \\sqrt{s}$, or $P = s^{0.5}$, then:\n",
        "\n",
        "$$  dP = d(s^{0.5}) = (           )(ds) $$"
      ],
      "metadata": {
        "id": "B2r0Tnsr9gQR"
      }
    }
  ]
}